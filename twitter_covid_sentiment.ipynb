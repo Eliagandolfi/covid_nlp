{
 "metadata": {
  "language_info": {
   "codemirror_mode": {
    "name": "ipython",
    "version": 3
   },
   "file_extension": ".py",
   "mimetype": "text/x-python",
   "name": "python",
   "nbconvert_exporter": "python",
   "pygments_lexer": "ipython3",
   "version": 3
  },
  "orig_nbformat": 2,
  "kernelspec": {
   "name": "python_defaultSpec_1596204017867",
   "display_name": "Python 3.8.4 64-bit"
  }
 },
 "nbformat": 4,
 "nbformat_minor": 2,
 "cells": [
  {
   "cell_type": "code",
   "execution_count": 7,
   "metadata": {
    "tags": []
   },
   "outputs": [
    {
     "output_type": "stream",
     "name": "stdout",
     "text": "Getting data for realDonaldTrump\nGetting data for tedcruz\nGetting data for Mike_Pence\nGetting data for JoeBiden\nGetting data for AOC\nGetting data for BernieSanders\n"
    },
    {
     "output_type": "display_data",
     "data": {
      "text/plain": "                 User                Date  \\\n0     realDonaldTrump 2020-07-31 14:08:43   \n1     realDonaldTrump 2020-07-31 14:08:42   \n2     realDonaldTrump 2020-07-31 13:15:34   \n3     realDonaldTrump 2020-07-30 23:33:13   \n4     realDonaldTrump 2020-07-30 22:45:25   \n...               ...                 ...   \n4582    BernieSanders 2020-05-03 16:24:06   \n4583    BernieSanders 2020-05-03 13:21:51   \n4584    BernieSanders 2020-05-02 21:43:50   \n4585    BernieSanders 2020-05-02 19:01:49   \n4586    BernieSanders 2020-05-02 14:09:47   \n\n                                                   Text  \n0     .....Our massive testing capability, rather th...  \n1     Somebody please tell Congressman Clyburn, who ...  \n2                               https://t.co/O8bK1Ewtqu  \n3     Great to spend time with Mike Singletary while...  \n4     My Administration has been focused on finding ...  \n...                                                 ...  \n4582  We need a moratorium on evictions now. The onl...  \n4583  Do we really want to continue the current expe...  \n4584  Congratulations to Canada on this important st...  \n4585  We're seeing how the most essential workers ar...  \n4586  We must use this time to reassess the foundati...  \n\n[4587 rows x 3 columns]",
      "text/html": "<div>\n<style scoped>\n    .dataframe tbody tr th:only-of-type {\n        vertical-align: middle;\n    }\n\n    .dataframe tbody tr th {\n        vertical-align: top;\n    }\n\n    .dataframe thead th {\n        text-align: right;\n    }\n</style>\n<table border=\"1\" class=\"dataframe\">\n  <thead>\n    <tr style=\"text-align: right;\">\n      <th></th>\n      <th>User</th>\n      <th>Date</th>\n      <th>Text</th>\n    </tr>\n  </thead>\n  <tbody>\n    <tr>\n      <th>0</th>\n      <td>realDonaldTrump</td>\n      <td>2020-07-31 14:08:43</td>\n      <td>.....Our massive testing capability, rather th...</td>\n    </tr>\n    <tr>\n      <th>1</th>\n      <td>realDonaldTrump</td>\n      <td>2020-07-31 14:08:42</td>\n      <td>Somebody please tell Congressman Clyburn, who ...</td>\n    </tr>\n    <tr>\n      <th>2</th>\n      <td>realDonaldTrump</td>\n      <td>2020-07-31 13:15:34</td>\n      <td>https://t.co/O8bK1Ewtqu</td>\n    </tr>\n    <tr>\n      <th>3</th>\n      <td>realDonaldTrump</td>\n      <td>2020-07-30 23:33:13</td>\n      <td>Great to spend time with Mike Singletary while...</td>\n    </tr>\n    <tr>\n      <th>4</th>\n      <td>realDonaldTrump</td>\n      <td>2020-07-30 22:45:25</td>\n      <td>My Administration has been focused on finding ...</td>\n    </tr>\n    <tr>\n      <th>...</th>\n      <td>...</td>\n      <td>...</td>\n      <td>...</td>\n    </tr>\n    <tr>\n      <th>4582</th>\n      <td>BernieSanders</td>\n      <td>2020-05-03 16:24:06</td>\n      <td>We need a moratorium on evictions now. The onl...</td>\n    </tr>\n    <tr>\n      <th>4583</th>\n      <td>BernieSanders</td>\n      <td>2020-05-03 13:21:51</td>\n      <td>Do we really want to continue the current expe...</td>\n    </tr>\n    <tr>\n      <th>4584</th>\n      <td>BernieSanders</td>\n      <td>2020-05-02 21:43:50</td>\n      <td>Congratulations to Canada on this important st...</td>\n    </tr>\n    <tr>\n      <th>4585</th>\n      <td>BernieSanders</td>\n      <td>2020-05-02 19:01:49</td>\n      <td>We're seeing how the most essential workers ar...</td>\n    </tr>\n    <tr>\n      <th>4586</th>\n      <td>BernieSanders</td>\n      <td>2020-05-02 14:09:47</td>\n      <td>We must use this time to reassess the foundati...</td>\n    </tr>\n  </tbody>\n</table>\n<p>4587 rows × 3 columns</p>\n</div>"
     },
     "metadata": {}
    }
   ],
   "source": [
    "import sentiment_mod as s\n",
    "from dotenv import load_dotenv\n",
    "import os\n",
    "load_dotenv()\n",
    "import pandas as pd\n",
    "import tweepy\n",
    "from tweepy import OAuthHandler, API, Cursor\n",
    "from datetime import datetime, date, time, timedelta\n",
    "from collections import Counter\n",
    "import sys\n",
    "\n",
    "# API setup\n",
    "auth = OAuthHandler(os.getenv(\"consumer_key\"), os.getenv(\"consumer_secret\"))\n",
    "auth.set_access_token(os.getenv(\"access_token\"), os.getenv(\"access_token_secret\"))\n",
    "api = API(auth)\n",
    "\n",
    "# Names of accounts to be queried will be passed in as command-line arguments.\n",
    "# I’m going to exit the script if no args are passed, since there would be no reason to continue.\n",
    "users = [\"realDonaldTrump\", \"tedcruz\", \"Mike_Pence\", \"JoeBiden\", \"AOC\", \"BernieSanders\"]\n",
    "# set tweet timeframe\n",
    "end_date = datetime.utcnow() - timedelta(days=90)\n",
    "# Inizialize empty dataframe\n",
    "df = pd.DataFrame([])\n",
    "\n",
    "# Next, let’s iterate through the account names passed and use tweepy’s API.get_user()\n",
    "# to obtain a few details about the queried account.\n",
    "for user in users:\n",
    "    try:\n",
    "        print(\"Getting data for \" + user)\n",
    "        for tweet in tweepy.Cursor(api.user_timeline,id=user, tweet_mode='extended').items():\n",
    "            df = df.append(pd.DataFrame({'User': user, 'Date': tweet.created_at, 'Text':tweet.full_text}, index=[0]), ignore_index=True)\n",
    "            if tweet.created_at < end_date:\n",
    "                break  \n",
    "    except tweepy.error.TweepError:\n",
    "        print(\"user not found\")\n",
    "\n",
    "df['sentiment']=\"\"\n",
    "\n",
    "# with pd.option_context('display.max_rows', None, 'display.max_columns', None):  # more options can be specified also\n",
    "#     print(df)"
   ]
  },
  {
   "cell_type": "code",
   "execution_count": 9,
   "metadata": {},
   "outputs": [],
   "source": [
    "# df.to_pickle('tweet_raw.pkl')"
   ]
  },
  {
   "cell_type": "code",
   "execution_count": 18,
   "metadata": {
    "tags": []
   },
   "outputs": [
    {
     "output_type": "stream",
     "name": "stdout",
     "text": "User                Date  \\\n4582  BernieSanders 2020-05-03 16:24:06   \n4583  BernieSanders 2020-05-03 13:21:51   \n4584  BernieSanders 2020-05-02 21:43:50   \n4585  BernieSanders 2020-05-02 19:01:49   \n4586  BernieSanders 2020-05-02 14:09:47   \n\n                                                                                                                                                                                                                                                                Text  \\\n4582  We need a moratorium on evictions now. The only way we can overcome this pandemic is if people are ensured a safe and decent place to live and stay at home.                                                                                                     \n4583  Do we really want to continue the current expensive and cruel system that ties health care to jobs? Or do we need a simple, comprehensive and cost-effective system that understands that health care is a human right for all of our people?                    \n4584  Congratulations to Canada on this important step forward. Now it is time for us to stand up to the NRA and do the same. We must ban the sale, distribution and transfer of assault weapons in the United States. https://t.co/NuFuKO6Se6                         \n4585  We're seeing how the most essential workers are not hedge fund managers, but doctors and nurses and EMTs, grocery store workers, workers in drug stores, and the truck drivers and bus drivers. They must have hazard pay, protective gear and paid leave NOW.   \n4586  We must use this time to reassess the foundational institutions of American society and determine how we go forward into a better future. \\n\\nLet us, finally, guarantee health care to all our people as a human right.\\nhttps://t.co/PLz41C9hsU                \n\n     sentiment  \n4582            \n4583            \n4584            \n4585            \n4586            \n"
    }
   ],
   "source": [
    "# df = pd.read_pickle('tweet_raw.pkl')\n",
    "\n",
    "for i, row in test.iterrows():\n",
    "    sentiment = s.sentiment(df.at[i, 'Text'])\n",
    "    df.at[i,'sentiment'] = sentiment\n",
    "\n",
    "df.to_pickle('tweet_final.pkl')\n",
    "df.to_csv(path='csv', index=False)\n"
   ]
  },
  {
   "cell_type": "code",
   "execution_count": null,
   "metadata": {},
   "outputs": [],
   "source": []
  }
 ]
}